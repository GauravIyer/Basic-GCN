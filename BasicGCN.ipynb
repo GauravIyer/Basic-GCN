{
  "nbformat": 4,
  "nbformat_minor": 0,
  "metadata": {
    "colab": {
      "name": "Untitled0.ipynb",
      "provenance": [],
      "collapsed_sections": []
    },
    "kernelspec": {
      "name": "python3",
      "display_name": "Python 3"
    },
    "accelerator": "GPU"
  },
  "cells": [
    {
      "cell_type": "code",
      "metadata": {
        "id": "3_rJ7TsU6iMT",
        "colab_type": "code",
        "colab": {}
      },
      "source": [
        "from google.colab import drive\n",
        "drive.mount('/content/gdrive')"
      ],
      "execution_count": 0,
      "outputs": []
    },
    {
      "cell_type": "code",
      "metadata": {
        "id": "QwJr_GuA-nKs",
        "colab_type": "code",
        "colab": {}
      },
      "source": [
        "%cd \"/content/gdrive/My Drive/Datasets\"\n",
        "!tar -xvf \"/content/gdrive/My Drive/Datasets/cora.tgz\"\n",
        "%cd \"/content/gdrive/My Drive/Datasets/cora\""
      ],
      "execution_count": 0,
      "outputs": []
    },
    {
      "cell_type": "code",
      "metadata": {
        "id": "BH8790Rw_aOW",
        "colab_type": "code",
        "colab": {}
      },
      "source": [
        "import numpy as np\n",
        "import torch\n",
        "import torch.nn as nn\n",
        "import torch.nn.functional as F\n",
        "import torch.optim as optim\n",
        "from layers import GraphConvolution"
      ],
      "execution_count": 0,
      "outputs": []
    },
    {
      "cell_type": "markdown",
      "metadata": {
        "id": "u4Qwyh_wBXiC",
        "colab_type": "text"
      },
      "source": [
        "# Some Exploration"
      ]
    },
    {
      "cell_type": "code",
      "metadata": {
        "id": "wZ13MjTWCgoG",
        "colab_type": "code",
        "colab": {}
      },
      "source": [
        "a=np.genfromtxt(\"cora.cites\",dtype=np.dtype(str))\n",
        "a \n",
        "#paper 2 cites paper 1\n",
        "#contains edges"
      ],
      "execution_count": 0,
      "outputs": []
    },
    {
      "cell_type": "code",
      "metadata": {
        "id": "8wJdW12vDXlL",
        "colab_type": "code",
        "colab": {}
      },
      "source": [
        "b=np.genfromtxt(\"cora.content\",dtype=np.dtype(str))\n",
        "b\n",
        "#contains ids+features+labels"
      ],
      "execution_count": 0,
      "outputs": []
    },
    {
      "cell_type": "code",
      "metadata": {
        "id": "lDDZYDPcT3aQ",
        "colab_type": "code",
        "colab": {}
      },
      "source": [
        "b[:,1:-1] #gives us the \"word attributes\" field values, which we'll be using as our features"
      ],
      "execution_count": 0,
      "outputs": []
    },
    {
      "cell_type": "code",
      "metadata": {
        "id": "ZLfPkEyaT84Y",
        "colab_type": "code",
        "colab": {}
      },
      "source": [
        "b[:,-1] #gives us our labels"
      ],
      "execution_count": 0,
      "outputs": []
    },
    {
      "cell_type": "markdown",
      "metadata": {
        "id": "7Qz7-BxPBgef",
        "colab_type": "text"
      },
      "source": [
        "# Data Loading"
      ]
    },
    {
      "cell_type": "code",
      "metadata": {
        "id": "JyG1VnFtBjuY",
        "colab_type": "code",
        "colab": {}
      },
      "source": [
        "edge_list=np.genfromtxt(\"cora.cites\",dtype=np.int32)\n",
        "ids_features_labels=np.genfromtxt(\"cora.content\",dtype=np.dtype(str))\n",
        "ids=np.array(ids_features_labels[:,0],dtype=np.int32)\n",
        "features=np.array(ids_features_labels[:,1:-1],dtype=np.float32)\n",
        "labels_strings=ids_features_labels[:,-1]"
      ],
      "execution_count": 0,
      "outputs": []
    },
    {
      "cell_type": "code",
      "metadata": {
        "id": "9kx-gaJHCcgK",
        "colab_type": "code",
        "colab": {}
      },
      "source": [
        "labels_strings=np.array(labels_strings,dtype=np.dtype(str))\n",
        "#features=np.array(features,dtype=np.float32)"
      ],
      "execution_count": 0,
      "outputs": []
    },
    {
      "cell_type": "code",
      "metadata": {
        "id": "v78xbok7CtXV",
        "colab_type": "code",
        "colab": {}
      },
      "source": [
        "from sklearn.preprocessing import LabelEncoder\n",
        "\n",
        "def one_hot_encoder(labels_strings):\n",
        "  encoder=LabelEncoder()\n",
        "  labels=encoder.fit_transform(labels_strings)\n",
        "  one_hot_labels=np.zeros((labels.size,labels.max()+1))\n",
        "  one_hot_labels[np.arange(labels.size),labels]=1\n",
        "  return one_hot_labels"
      ],
      "execution_count": 0,
      "outputs": []
    },
    {
      "cell_type": "code",
      "metadata": {
        "id": "RC3rhdv-Fpyy",
        "colab_type": "code",
        "colab": {}
      },
      "source": [
        "labels=one_hot_encoder(labels_strings)\n",
        "labels"
      ],
      "execution_count": 0,
      "outputs": []
    },
    {
      "cell_type": "code",
      "metadata": {
        "id": "uArcJHiVHEua",
        "colab_type": "code",
        "colab": {}
      },
      "source": [
        "id_map={j:i for i,j in enumerate(ids)}\n",
        "edges=np.array(list(map(id_map.get,edge_list.flatten()))).reshape(edge_list.shape)\n",
        "edges"
      ],
      "execution_count": 0,
      "outputs": []
    },
    {
      "cell_type": "code",
      "metadata": {
        "id": "Bb3OfivY_pk8",
        "colab_type": "code",
        "colab": {}
      },
      "source": [
        "adj=np.zeros((labels.shape[0],labels.shape[0]))\n",
        "for i,j in zip(edges[:,0],edges[:,1]):\n",
        "  adj[i][j]=1"
      ],
      "execution_count": 0,
      "outputs": []
    },
    {
      "cell_type": "code",
      "metadata": {
        "id": "fIGECqqaArHU",
        "colab_type": "code",
        "colab": {}
      },
      "source": [
        "#adj_symm=adj+adj.T-(np.eye(labels.shape[0],labels.shape[0])*np.diagonal(adj))\n",
        "adj_symm=adj+adj.T\n",
        "adj=adj_symm+np.eye(adj_symm.shape[0])"
      ],
      "execution_count": 0,
      "outputs": []
    },
    {
      "cell_type": "code",
      "metadata": {
        "id": "aMZl1kXQKFAC",
        "colab_type": "code",
        "colab": {}
      },
      "source": [
        "def normalise(X):\n",
        "  rowsum=X.sum(axis=1) #sum of rows of adjacency matrix gives degree of node\n",
        "  inv=np.power(rowsum,-1).flatten() #inverse of a diagonal matrix is the reciprocal of the diagonal element\n",
        "  #inv[np.isinf(inv)] = 0. #checking and removing infinities\n",
        "  inv_mx=np.diagflat(inv)\n",
        "  m=inv_mx.dot(X)\n",
        "  return m"
      ],
      "execution_count": 0,
      "outputs": []
    },
    {
      "cell_type": "code",
      "metadata": {
        "id": "2y9TmGw2UmY1",
        "colab_type": "code",
        "colab": {}
      },
      "source": [
        "features=normalise(features)\n",
        "adj=normalise(adj)\n",
        "features=torch.FloatTensor(np.array(features))\n",
        "labels=torch.LongTensor(np.where(labels))[1]\n",
        "adj=torch.FloatTensor(adj)"
      ],
      "execution_count": 0,
      "outputs": []
    },
    {
      "cell_type": "code",
      "metadata": {
        "id": "MRSo4xCFUvlv",
        "colab_type": "code",
        "colab": {}
      },
      "source": [
        "class GCN(nn.Module):\n",
        "  def __init__(self,num_features,h,num_classes):\n",
        "    super(GCN,self).__init__()\n",
        "    self.gconv1=GraphConvolution(num_features,h)\n",
        "    self.gconv2=GraphConvolution(h,num_classes)\n",
        "    self.dropout=0.5\n",
        "    \n",
        "  def forward(self,x,adj):\n",
        "    x=F.relu(self.gconv1(x,adj))\n",
        "    x=F.dropout(x,self.dropout,training=self.training)\n",
        "    x=self.gconv2(x,adj)\n",
        "    return F.log_softmax(x,dim=1)"
      ],
      "execution_count": 0,
      "outputs": []
    },
    {
      "cell_type": "code",
      "metadata": {
        "id": "ETsuNUWRVFek",
        "colab_type": "code",
        "colab": {}
      },
      "source": [
        "net=GCN(num_features=features.shape[1],h=16,num_classes=labels.max().item()+1)\n",
        "opt=optim.Adam(net.parameters(),lr=4e-3)\n",
        "device=torch.device(\"cuda\" if torch.cuda.is_available() else \"cpu\")\n",
        "net=net.to(device)\n",
        "adj=adj.to(device)\n",
        "features=features.to(device)\n",
        "labels=labels.to(device)"
      ],
      "execution_count": 0,
      "outputs": []
    },
    {
      "cell_type": "code",
      "metadata": {
        "id": "OBfX7mfouzCP",
        "colab_type": "code",
        "colab": {}
      },
      "source": [
        "idx_train=range(140)\n",
        "idx_val=range(200, 500)\n",
        "idx_test=range(500, 1500)\n",
        "idx_train = torch.LongTensor(idx_train)\n",
        "idx_val = torch.LongTensor(idx_val)\n",
        "idx_test = torch.LongTensor(idx_test)\n",
        "idx_train=idx_train.to(device)\n",
        "idx_val=idx_val.to(device)\n",
        "idx_test=idx_test.to(device)"
      ],
      "execution_count": 0,
      "outputs": []
    },
    {
      "cell_type": "code",
      "metadata": {
        "id": "RR4Q7pzRvXrD",
        "colab_type": "code",
        "colab": {}
      },
      "source": [
        "def accuracy(output,labels):\n",
        "  preds=output.max(1)[1].type_as(labels)\n",
        "  correct=preds.eq(labels).double()\n",
        "  correct=correct.sum()\n",
        "  return correct/len(labels)\n"
      ],
      "execution_count": 0,
      "outputs": []
    },
    {
      "cell_type": "code",
      "metadata": {
        "id": "rDKcWJoOvy8C",
        "colab_type": "code",
        "colab": {}
      },
      "source": [
        "def train(num_epochs):\n",
        "  net.train()\n",
        "  for epoch in range(1,num_epochs+1):\n",
        "    opt.zero_grad()\n",
        "    out=net(features,adj)\n",
        "    loss=F.nll_loss(out[idx_train],labels[idx_train])\n",
        "    loss.backward()\n",
        "    opt.step()\n",
        "    val_accuracy=accuracy(out[idx_val],labels[idx_val])\n",
        "    print(\"{}/{}. loss: {}\".format(epoch,num_epochs,loss))\n",
        "    print(\"{}/{}. validation accuacy: {}\".format(epoch, num_epochs,val_accuracy))\n",
        "    "
      ],
      "execution_count": 0,
      "outputs": []
    },
    {
      "cell_type": "code",
      "metadata": {
        "id": "FvX-0b2I1oUD",
        "colab_type": "code",
        "colab": {}
      },
      "source": [
        "train(num_epochs=200)"
      ],
      "execution_count": 0,
      "outputs": []
    },
    {
      "cell_type": "code",
      "metadata": {
        "id": "vibO8rIc10iL",
        "colab_type": "code",
        "colab": {}
      },
      "source": [
        "def test():\n",
        "  net.eval()\n",
        "  out=net(features,adj)\n",
        "  #loss_test = F.nll_loss(output[idx_test], labels[idx_test])\n",
        "  test_accuracy=accuracy(out[idx_test],labels[idx_test])\n",
        "  #print(\"Test set results:\",\"loss= {:.4f}\".format(loss_test.item()),\"accuracy= {:.4f}\".format(acc_test.item()))\n",
        "  print(test_accuracy)"
      ],
      "execution_count": 0,
      "outputs": []
    },
    {
      "cell_type": "code",
      "metadata": {
        "id": "TRC6gloH4oSb",
        "colab_type": "code",
        "colab": {}
      },
      "source": [
        "test()"
      ],
      "execution_count": 0,
      "outputs": []
    },
    {
      "cell_type": "code",
      "metadata": {
        "id": "gfQmn6Xl5R8n",
        "colab_type": "code",
        "colab": {}
      },
      "source": [
        ""
      ],
      "execution_count": 0,
      "outputs": []
    }
  ]
}